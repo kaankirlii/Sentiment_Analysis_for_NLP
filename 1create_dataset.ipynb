{
  "nbformat": 4,
  "nbformat_minor": 0,
  "metadata": {
    "colab": {
      "provenance": []
    },
    "kernelspec": {
      "name": "python3",
      "display_name": "Python 3"
    },
    "language_info": {
      "name": "python"
    }
  },
  "cells": [
    {
      "cell_type": "code",
      "execution_count": 5,
      "metadata": {
        "id": "mjFOMSjkZjHE"
      },
      "outputs": [],
      "source": [
        "#Pandas Library\n",
        "import pandas as pd"
      ]
    },
    {
      "cell_type": "code",
      "execution_count": 6,
      "metadata": {
        "id": "20y8kJnraFAh"
      },
      "outputs": [],
      "source": [
        "# Sample data\n",
        "data = {\n",
        "    \"text\": [\n",
        "        \"I love this product, it works great!\",\n",
        "        \"Absolutely terrible, I want my money back.\",\n",
        "        \"Just okay, not what I expected.\",\n",
        "        \"Amazing experience, highly recommend.\",\n",
        "        \"Worst purchase ever, completely dissatisfied.\",\n",
        "        \"Pretty good, would buy again.\",\n",
        "        \"Not bad, but could be better.\",\n",
        "        \"Fantastic service and friendly staff.\",\n",
        "        \"Horrible, never coming back.\",\n",
        "        \"Decent quality, fair price.\",\n",
        "    ],\n",
        "    \"sentiment\": [\n",
        "        \"positive\",\n",
        "        \"negative\",\n",
        "        \"neutral\",\n",
        "        \"positive\",\n",
        "        \"negative\",\n",
        "        \"positive\",\n",
        "        \"neutral\",\n",
        "        \"positive\",\n",
        "        \"negative\",\n",
        "        \"neutral\",\n",
        "    ]\n",
        "}"
      ]
    },
    {
      "cell_type": "code",
      "source": [
        "# Ensure we have 100 rows\n",
        "while len(data['text']) < 100:\n",
        "    data['text'].extend(data['text'][:100 - len(data['text'])])\n",
        "    data['sentiment'].extend(data['sentiment'][:100 - len(data['sentiment'])])"
      ],
      "metadata": {
        "id": "KzafXOpjaI_8"
      },
      "execution_count": 7,
      "outputs": []
    },
    {
      "cell_type": "code",
      "source": [
        "# Convert to DataFrame\n",
        "df = pd.DataFrame(data)"
      ],
      "metadata": {
        "id": "UtyrbAPCaMDL"
      },
      "execution_count": 8,
      "outputs": []
    },
    {
      "cell_type": "code",
      "source": [
        "# Save to CSV\n",
        "df.to_csv(\"sentiment_dataset.csv\", index=False)\n",
        "\n",
        "print(\"Dataset created and saved as sentiment_dataset.csv\")"
      ],
      "metadata": {
        "colab": {
          "base_uri": "https://localhost:8080/"
        },
        "id": "SGAy4EgGd7-r",
        "outputId": "b6428aea-9f35-49c3-c3f8-eb370ab3f8d3"
      },
      "execution_count": 9,
      "outputs": [
        {
          "output_type": "stream",
          "name": "stdout",
          "text": [
            "Dataset created and saved as sentiment_dataset.csv\n"
          ]
        }
      ]
    }
  ]
}